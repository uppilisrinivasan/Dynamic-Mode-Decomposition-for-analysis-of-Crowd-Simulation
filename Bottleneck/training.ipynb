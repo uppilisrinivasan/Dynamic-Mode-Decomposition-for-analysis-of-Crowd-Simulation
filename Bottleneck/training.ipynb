{
 "cells": [
  {
   "cell_type": "code",
   "execution_count": 1,
   "metadata": {},
   "outputs": [],
   "source": [
    "import matplotlib.pyplot as plt\n",
    "import numpy as np\n",
    "import pandas as pd\n",
    "import scipy\n",
    "\n",
    "from datafold import (\n",
    "    EDMD,\n",
    "    DMDStandard,\n",
    "    GaussianKernel,\n",
    "    TSCPolynomialFeatures,\n",
    "    TSCRadialBasis,\n",
    "    TSCDataFrame\n",
    ")\n",
    "from datafold.utils._systems import Hopf\n",
    "from datafold.utils.general import generate_2d_regular_mesh"
   ]
  },
  {
   "cell_type": "code",
   "execution_count": 2,
   "metadata": {},
   "outputs": [
    {
     "data": {
      "text/html": [
       "<div>\n",
       "<style scoped>\n",
       "    .dataframe tbody tr th:only-of-type {\n",
       "        vertical-align: middle;\n",
       "    }\n",
       "\n",
       "    .dataframe tbody tr th {\n",
       "        vertical-align: top;\n",
       "    }\n",
       "\n",
       "    .dataframe thead th {\n",
       "        text-align: right;\n",
       "    }\n",
       "</style>\n",
       "<table border=\"1\" class=\"dataframe\">\n",
       "  <thead>\n",
       "    <tr style=\"text-align: right;\">\n",
       "      <th></th>\n",
       "      <th>id</th>\n",
       "      <th>timeStep</th>\n",
       "      <th>faceId</th>\n",
       "      <th>meshDensityCounting-PID4</th>\n",
       "    </tr>\n",
       "  </thead>\n",
       "  <tbody>\n",
       "    <tr>\n",
       "      <th>0</th>\n",
       "      <td>0</td>\n",
       "      <td>1</td>\n",
       "      <td>1</td>\n",
       "      <td>0</td>\n",
       "    </tr>\n",
       "    <tr>\n",
       "      <th>1</th>\n",
       "      <td>0</td>\n",
       "      <td>1</td>\n",
       "      <td>2</td>\n",
       "      <td>23</td>\n",
       "    </tr>\n",
       "    <tr>\n",
       "      <th>2</th>\n",
       "      <td>0</td>\n",
       "      <td>1</td>\n",
       "      <td>3</td>\n",
       "      <td>0</td>\n",
       "    </tr>\n",
       "    <tr>\n",
       "      <th>3</th>\n",
       "      <td>0</td>\n",
       "      <td>1</td>\n",
       "      <td>4</td>\n",
       "      <td>20</td>\n",
       "    </tr>\n",
       "    <tr>\n",
       "      <th>4</th>\n",
       "      <td>0</td>\n",
       "      <td>1</td>\n",
       "      <td>5</td>\n",
       "      <td>28</td>\n",
       "    </tr>\n",
       "  </tbody>\n",
       "</table>\n",
       "</div>"
      ],
      "text/plain": [
       "   id  timeStep  faceId  meshDensityCounting-PID4\n",
       "0   0         1       1                         0\n",
       "1   0         1       2                        23\n",
       "2   0         1       3                         0\n",
       "3   0         1       4                        20\n",
       "4   0         1       5                        28"
      ]
     },
     "execution_count": 2,
     "metadata": {},
     "output_type": "execute_result"
    }
   ],
   "source": [
    "df = pd.read_csv(\"result_df.csv\")\n",
    "#df = pd.read_csv(\"result_df.csv\", index_col=[0, 1, 2], header=[0])\n",
    "\n",
    "#tscdf = TSCDataFrame.from_csv(\"result_df.csv\")\n",
    "#tscdf\n",
    "df.head()\n",
    "data = df.drop(\"run_id\", axis = 'columns')\n",
    "\n",
    "data.to_csv('out.csv', sep='\\t')\n",
    "data.head()"
   ]
  },
  {
   "cell_type": "code",
   "execution_count": 213,
   "metadata": {},
   "outputs": [],
   "source": [
    "row= data.shape[0]\n",
    "series1=[]\n",
    "for i in range(0,row):\n",
    "    if data['id'].iloc[i] ==0 and data['faceId'].iloc[i]==1:\n",
    "        series1.append(data['meshDensityCounting-PID4'].iloc[i])\n",
    "series2=[]\n",
    "for i in range(0,row):\n",
    "    if data['id'].iloc[i] ==0 and data['faceId'].iloc[i]==2:\n",
    "        series2.append(data['meshDensityCounting-PID4'].iloc[i])\n",
    "#series1"
   ]
  },
  {
   "cell_type": "code",
   "execution_count": 214,
   "metadata": {},
   "outputs": [],
   "source": [
    "ser1=pd.DataFrame(series1, columns=['meshDensityCounting-PID4'])\n",
    "ser2=pd.DataFrame(series2, columns=['meshDensityCounting-PID4'])"
   ]
  },
  {
   "cell_type": "code",
   "execution_count": 215,
   "metadata": {},
   "outputs": [
    {
     "data": {
      "text/html": [
       "<div>\n",
       "<style scoped>\n",
       "    .dataframe tbody tr th:only-of-type {\n",
       "        vertical-align: middle;\n",
       "    }\n",
       "\n",
       "    .dataframe tbody tr th {\n",
       "        vertical-align: top;\n",
       "    }\n",
       "\n",
       "    .dataframe thead th {\n",
       "        text-align: right;\n",
       "    }\n",
       "</style>\n",
       "<table border=\"1\" class=\"dataframe\">\n",
       "  <thead>\n",
       "    <tr style=\"text-align: right;\">\n",
       "      <th></th>\n",
       "      <th>feature</th>\n",
       "      <th>meshDensityCounting-PID4</th>\n",
       "    </tr>\n",
       "    <tr>\n",
       "      <th>ID</th>\n",
       "      <th>time</th>\n",
       "      <th></th>\n",
       "    </tr>\n",
       "  </thead>\n",
       "  <tbody>\n",
       "    <tr>\n",
       "      <th rowspan=\"11\" valign=\"top\">0</th>\n",
       "      <th>0</th>\n",
       "      <td>0</td>\n",
       "    </tr>\n",
       "    <tr>\n",
       "      <th>1</th>\n",
       "      <td>0</td>\n",
       "    </tr>\n",
       "    <tr>\n",
       "      <th>2</th>\n",
       "      <td>2</td>\n",
       "    </tr>\n",
       "    <tr>\n",
       "      <th>3</th>\n",
       "      <td>3</td>\n",
       "    </tr>\n",
       "    <tr>\n",
       "      <th>4</th>\n",
       "      <td>6</td>\n",
       "    </tr>\n",
       "    <tr>\n",
       "      <th>...</th>\n",
       "      <td>...</td>\n",
       "    </tr>\n",
       "    <tr>\n",
       "      <th>1246</th>\n",
       "      <td>0</td>\n",
       "    </tr>\n",
       "    <tr>\n",
       "      <th>1247</th>\n",
       "      <td>0</td>\n",
       "    </tr>\n",
       "    <tr>\n",
       "      <th>1248</th>\n",
       "      <td>0</td>\n",
       "    </tr>\n",
       "    <tr>\n",
       "      <th>1249</th>\n",
       "      <td>0</td>\n",
       "    </tr>\n",
       "    <tr>\n",
       "      <th>1250</th>\n",
       "      <td>0</td>\n",
       "    </tr>\n",
       "  </tbody>\n",
       "</table>\n",
       "<p>1251 rows × 1 columns</p>\n",
       "</div>"
      ],
      "text/plain": [
       "feature  meshDensityCounting-PID4\n",
       "ID time                          \n",
       "0  0                            0\n",
       "   1                            0\n",
       "   2                            2\n",
       "   3                            3\n",
       "   4                            6\n",
       "...                           ...\n",
       "   1246                         0\n",
       "   1247                         0\n",
       "   1248                         0\n",
       "   1249                         0\n",
       "   1250                         0\n",
       "\n",
       "[1251 rows x 1 columns]"
      ]
     },
     "execution_count": 215,
     "metadata": {},
     "output_type": "execute_result"
    }
   ],
   "source": [
    "tsc_regular1 = TSCDataFrame.from_frame_list([ser1])\n",
    "tsc_regular1"
   ]
  },
  {
   "cell_type": "code",
   "execution_count": 216,
   "metadata": {},
   "outputs": [
    {
     "data": {
      "text/plain": [
       "<Axes: xlabel='time'>"
      ]
     },
     "execution_count": 216,
     "metadata": {},
     "output_type": "execute_result"
    },
    {
     "data": {
      "image/png": "[encoded data removed]",
      "text/plain": [
       "<Figure size 700x700 with 1 Axes>"
      ]
     },
     "metadata": {},
     "output_type": "display_data"
    }
   ],
   "source": [
    "tsc_regular1.plot(figsize=(7, 7))"
   ]
  },
  {
   "cell_type": "code",
   "execution_count": 217,
   "metadata": {},
   "outputs": [
    {
     "data": {
      "text/html": [
       "<div>\n",
       "<style scoped>\n",
       "    .dataframe tbody tr th:only-of-type {\n",
       "        vertical-align: middle;\n",
       "    }\n",
       "\n",
       "    .dataframe tbody tr th {\n",
       "        vertical-align: top;\n",
       "    }\n",
       "\n",
       "    .dataframe thead th {\n",
       "        text-align: right;\n",
       "    }\n",
       "</style>\n",
       "<table border=\"1\" class=\"dataframe\">\n",
       "  <thead>\n",
       "    <tr style=\"text-align: right;\">\n",
       "      <th></th>\n",
       "      <th>feature</th>\n",
       "      <th>meshDensityCounting-PID4</th>\n",
       "    </tr>\n",
       "    <tr>\n",
       "      <th>ID</th>\n",
       "      <th>time</th>\n",
       "      <th></th>\n",
       "    </tr>\n",
       "  </thead>\n",
       "  <tbody>\n",
       "    <tr>\n",
       "      <th rowspan=\"11\" valign=\"top\">0</th>\n",
       "      <th>0</th>\n",
       "      <td>23</td>\n",
       "    </tr>\n",
       "    <tr>\n",
       "      <th>1</th>\n",
       "      <td>27</td>\n",
       "    </tr>\n",
       "    <tr>\n",
       "      <th>2</th>\n",
       "      <td>26</td>\n",
       "    </tr>\n",
       "    <tr>\n",
       "      <th>3</th>\n",
       "      <td>25</td>\n",
       "    </tr>\n",
       "    <tr>\n",
       "      <th>4</th>\n",
       "      <td>29</td>\n",
       "    </tr>\n",
       "    <tr>\n",
       "      <th>...</th>\n",
       "      <td>...</td>\n",
       "    </tr>\n",
       "    <tr>\n",
       "      <th>1246</th>\n",
       "      <td>0</td>\n",
       "    </tr>\n",
       "    <tr>\n",
       "      <th>1247</th>\n",
       "      <td>0</td>\n",
       "    </tr>\n",
       "    <tr>\n",
       "      <th>1248</th>\n",
       "      <td>0</td>\n",
       "    </tr>\n",
       "    <tr>\n",
       "      <th>1249</th>\n",
       "      <td>0</td>\n",
       "    </tr>\n",
       "    <tr>\n",
       "      <th>1250</th>\n",
       "      <td>0</td>\n",
       "    </tr>\n",
       "  </tbody>\n",
       "</table>\n",
       "<p>1251 rows × 1 columns</p>\n",
       "</div>"
      ],
      "text/plain": [
       "feature  meshDensityCounting-PID4\n",
       "ID time                          \n",
       "0  0                           23\n",
       "   1                           27\n",
       "   2                           26\n",
       "   3                           25\n",
       "   4                           29\n",
       "...                           ...\n",
       "   1246                         0\n",
       "   1247                         0\n",
       "   1248                         0\n",
       "   1249                         0\n",
       "   1250                         0\n",
       "\n",
       "[1251 rows x 1 columns]"
      ]
     },
     "execution_count": 217,
     "metadata": {},
     "output_type": "execute_result"
    }
   ],
   "source": [
    "tsc_regular2 = TSCDataFrame.from_frame_list([ser2])\n",
    "tsc_regular2"
   ]
  },
  {
   "cell_type": "code",
   "execution_count": 218,
   "metadata": {},
   "outputs": [
    {
     "data": {
      "text/plain": [
       "<Axes: xlabel='time'>"
      ]
     },
     "execution_count": 218,
     "metadata": {},
     "output_type": "execute_result"
    },
    {
     "data": {
      "image/png": "[encoded data removed]",
      "text/plain": [
       "<Figure size 700x700 with 1 Axes>"
      ]
     },
     "metadata": {},
     "output_type": "display_data"
    }
   ],
   "source": [
    "tsc_regular2.plot(figsize=(7, 7))"
   ]
  },
  {
   "cell_type": "code",
   "execution_count": 219,
   "metadata": {},
   "outputs": [
    {
     "data": {
      "text/html": [
       "<div>\n",
       "<style scoped>\n",
       "    .dataframe tbody tr th:only-of-type {\n",
       "        vertical-align: middle;\n",
       "    }\n",
       "\n",
       "    .dataframe tbody tr th {\n",
       "        vertical-align: top;\n",
       "    }\n",
       "\n",
       "    .dataframe thead th {\n",
       "        text-align: right;\n",
       "    }\n",
       "</style>\n",
       "<table border=\"1\" class=\"dataframe\">\n",
       "  <thead>\n",
       "    <tr style=\"text-align: right;\">\n",
       "      <th></th>\n",
       "      <th>feature</th>\n",
       "      <th>meshDensityCounting-PID4</th>\n",
       "    </tr>\n",
       "    <tr>\n",
       "      <th>ID</th>\n",
       "      <th>time</th>\n",
       "      <th></th>\n",
       "    </tr>\n",
       "  </thead>\n",
       "  <tbody>\n",
       "    <tr>\n",
       "      <th rowspan=\"5\" valign=\"top\">0</th>\n",
       "      <th>0</th>\n",
       "      <td>0</td>\n",
       "    </tr>\n",
       "    <tr>\n",
       "      <th>1</th>\n",
       "      <td>0</td>\n",
       "    </tr>\n",
       "    <tr>\n",
       "      <th>2</th>\n",
       "      <td>2</td>\n",
       "    </tr>\n",
       "    <tr>\n",
       "      <th>3</th>\n",
       "      <td>3</td>\n",
       "    </tr>\n",
       "    <tr>\n",
       "      <th>4</th>\n",
       "      <td>6</td>\n",
       "    </tr>\n",
       "    <tr>\n",
       "      <th>...</th>\n",
       "      <th>...</th>\n",
       "      <td>...</td>\n",
       "    </tr>\n",
       "    <tr>\n",
       "      <th rowspan=\"5\" valign=\"top\">1</th>\n",
       "      <th>1246</th>\n",
       "      <td>0</td>\n",
       "    </tr>\n",
       "    <tr>\n",
       "      <th>1247</th>\n",
       "      <td>0</td>\n",
       "    </tr>\n",
       "    <tr>\n",
       "      <th>1248</th>\n",
       "      <td>0</td>\n",
       "    </tr>\n",
       "    <tr>\n",
       "      <th>1249</th>\n",
       "      <td>0</td>\n",
       "    </tr>\n",
       "    <tr>\n",
       "      <th>1250</th>\n",
       "      <td>0</td>\n",
       "    </tr>\n",
       "  </tbody>\n",
       "</table>\n",
       "<p>2502 rows × 1 columns</p>\n",
       "</div>"
      ],
      "text/plain": [
       "feature  meshDensityCounting-PID4\n",
       "ID time                          \n",
       "0  0                            0\n",
       "   1                            0\n",
       "   2                            2\n",
       "   3                            3\n",
       "   4                            6\n",
       "...                           ...\n",
       "1  1246                         0\n",
       "   1247                         0\n",
       "   1248                         0\n",
       "   1249                         0\n",
       "   1250                         0\n",
       "\n",
       "[2502 rows x 1 columns]"
      ]
     },
     "execution_count": 219,
     "metadata": {},
     "output_type": "execute_result"
    }
   ],
   "source": [
    "tsc_regular3 = TSCDataFrame.from_frame_list([ser1, ser2])\n",
    "tsc_regular3"
   ]
  },
  {
   "cell_type": "code",
   "execution_count": 220,
   "metadata": {},
   "outputs": [
    {
     "data": {
      "text/plain": [
       "<Axes: xlabel='time'>"
      ]
     },
     "execution_count": 220,
     "metadata": {},
     "output_type": "execute_result"
    },
    {
     "data": {
      "image/png": "[encoded data removed]",
      "text/plain": [
       "<Figure size 700x700 with 1 Axes>"
      ]
     },
     "metadata": {},
     "output_type": "display_data"
    }
   ],
   "source": [
    "tsc_regular3.plot(figsize=(7, 7))"
   ]
  },
  {
   "cell_type": "code",
   "execution_count": 221,
   "metadata": {},
   "outputs": [],
   "source": [
    "X_tsc=tsc_regular1\n",
    "X_tsc.to_csv('input1.csv', sep='\\t')"
   ]
  },
  {
   "cell_type": "code",
   "execution_count": 222,
   "metadata": {},
   "outputs": [
    {
     "name": "stdout",
     "output_type": "stream",
     "text": [
      "time delta: 1\n",
      "nr. time series: 1\n",
      "nr. timesteps per time series: 1251\n",
      "(n_samples, n_features): (1251, 1)\n",
      "time interval (0, 1250)\n",
      "Same time values: True\n",
      "\n",
      "Data snippet fo training data:\n"
     ]
    }
   ],
   "source": [
    "print(f\"time delta: {X_tsc.delta_time}\")\n",
    "print(f\"nr. time series: {X_tsc.n_timeseries}\")\n",
    "print(f\"nr. timesteps per time series: {X_tsc.n_timesteps}\")\n",
    "print(f\"(n_samples, n_features): {X_tsc.shape}\")\n",
    "print(f\"time interval {X_tsc.time_interval()}\")\n",
    "print(f\"Same time values: {X_tsc.is_same_time_values()}\")\n",
    "print(\"\")\n",
    "print(\"Data snippet fo training data:\")"
   ]
  },
  {
   "cell_type": "code",
   "execution_count": 223,
   "metadata": {},
   "outputs": [
    {
     "data": {
      "text/plain": [
       "array([   0,    1,    2, ..., 1248, 1249, 1250])"
      ]
     },
     "execution_count": 223,
     "metadata": {},
     "output_type": "execute_result"
    }
   ],
   "source": [
    "time_values= X_tsc.time_values()\n",
    "time_values"
   ]
  },
  {
   "cell_type": "code",
   "execution_count": 224,
   "metadata": {},
   "outputs": [
    {
     "name": "stderr",
     "output_type": "stream",
     "text": [
      "/home/uppili11/.local/lib/python3.10/site-packages/datafold/pcfold/timeseries/collection.py:1636: FutureWarning: The 'axis' keyword in DataFrame.groupby is deprecated and will be removed in a future version.\n",
      "  return self.groupby(by=TSCDataFrame.tsc_id_idx_name, axis=0, level=0).head(\n"
     ]
    },
    {
     "data": {
      "text/html": [
       "<div>\n",
       "<style scoped>\n",
       "    .dataframe tbody tr th:only-of-type {\n",
       "        vertical-align: middle;\n",
       "    }\n",
       "\n",
       "    .dataframe tbody tr th {\n",
       "        vertical-align: top;\n",
       "    }\n",
       "\n",
       "    .dataframe thead th {\n",
       "        text-align: right;\n",
       "    }\n",
       "</style>\n",
       "<table border=\"1\" class=\"dataframe\">\n",
       "  <thead>\n",
       "    <tr style=\"text-align: right;\">\n",
       "      <th></th>\n",
       "      <th>feature</th>\n",
       "      <th>meshDensityCounting-PID4</th>\n",
       "    </tr>\n",
       "    <tr>\n",
       "      <th>ID</th>\n",
       "      <th>time</th>\n",
       "      <th></th>\n",
       "    </tr>\n",
       "  </thead>\n",
       "  <tbody>\n",
       "    <tr>\n",
       "      <th>0</th>\n",
       "      <th>0</th>\n",
       "      <td>0</td>\n",
       "    </tr>\n",
       "  </tbody>\n",
       "</table>\n",
       "</div>"
      ],
      "text/plain": [
       "feature  meshDensityCounting-PID4\n",
       "ID time                          \n",
       "0  0                            0"
      ]
     },
     "execution_count": 224,
     "metadata": {},
     "output_type": "execute_result"
    }
   ],
   "source": [
    "X_tsc.initial_states()"
   ]
  },
  {
   "cell_type": "code",
   "execution_count": 225,
   "metadata": {},
   "outputs": [],
   "source": [
    "# function to add a single arrow in the following time series plots\n",
    "idx_arrow = np.array([time_values.shape[0] // 2 - 1, time_values.shape[0] // 2])\n",
    "\n",
    "def include_arrow(ax, df):\n",
    "    arrow = df.iloc[idx_arrow, :]\n",
    "    ax.arrow(\n",
    "        arrow.iloc[0, 0],\n",
    "        arrow.iloc[0, 0],\n",
    "        dx=arrow.iloc[1, 0] - arrow.iloc[0, 0],\n",
    "        dy=arrow.iloc[1, 0] - arrow.iloc[0, 0],\n",
    "        color=\"black\",\n",
    "        head_width=0.05,\n",
    "    )"
   ]
  },
  {
   "cell_type": "code",
   "execution_count": 226,
   "metadata": {},
   "outputs": [
    {
     "data": {
      "image/png": "[encoded data removed]",
      "text/plain": [
       "<Figure size 700x700 with 1 Axes>"
      ]
     },
     "metadata": {},
     "output_type": "display_data"
    }
   ],
   "source": [
    "fig, ax = plt.subplots(figsize=[7, 7])\n",
    "colors=  ['r', 'g', 'b', 'y','k', 'y']\n",
    "for _id, df in X_tsc.itertimeseries():\n",
    "    ax.plot(time_values, df[\"meshDensityCounting-PID4\"].to_numpy(), 0.1, c='black')\n",
    "    #include_arrow(ax, df)\n",
    "\n",
    "ax.set_title(\"sampled time series data from ODE system\")\n",
    "ax.set_xlabel(\"time_values\")\n",
    "ax.set_ylabel(\"meshDensityCounting-PID4\")\n",
    "#ax.axis(\"equal\")\n",
    "ax.grid();"
   ]
  },
  {
   "cell_type": "code",
   "execution_count": 227,
   "metadata": {},
   "outputs": [
    {
     "name": "stdout",
     "output_type": "stream",
     "text": [
      "Available Attributes:\n",
      "['_abc_impl', '_cls_feature_attrs', '_cls_valid_sys_mode', '_cls_valid_sys_type', '_valid_reconstruct_modes', 'approx_generator', 'compute_pseudospectrum', 'control_matrix_', 'diagonalize', 'dmd_modes', 'dt_', 'eigenvalues_', 'eigenvectors_left_', 'eigenvectors_right_', 'feature_names_in_', 'is_control_affine', 'is_controlled', 'is_differential_system', 'is_flowmap_system', 'is_matrix_mode', 'is_spectral_mode', 'is_time_invariant', 'n_features_in_', 'rank', 'rcond', 'reconstruct_mode', 'residual_filter', 'sys_mode', 'sys_type', 'system_matrix_']\n",
      "DMD Modes:\n",
      "[[1.]]\n",
      "Eigenvalues:\n",
      "[1.]\n"
     ]
    }
   ],
   "source": [
    "dmd = DMDStandard().fit(X=X_tsc, store_system_matrix=True)\n",
    "\n",
    "# Check available attributes\n",
    "attributes = [attr for attr in dir(dmd) if not callable(getattr(dmd, attr)) and not attr.startswith(\"__\")]\n",
    "print(\"Available Attributes:\")\n",
    "print(attributes)\n",
    "\n",
    "# Print values of some common attributes\n",
    "if 'dmd_modes' in attributes:\n",
    "    print(\"DMD Modes:\")\n",
    "    print(dmd.dmd_modes)\n",
    "\n",
    "if 'eigenvalues_' in attributes:\n",
    "    print(\"Eigenvalues:\")\n",
    "    print(dmd.eigenvalues_)"
   ]
  },
  {
   "cell_type": "code",
   "execution_count": 228,
   "metadata": {},
   "outputs": [
    {
     "name": "stdout",
     "output_type": "stream",
     "text": [
      "Data snipped for predicted time series training data and out-of-sample prediction\n"
     ]
    },
    {
     "name": "stderr",
     "output_type": "stream",
     "text": [
      "/home/uppili11/.local/lib/python3.10/site-packages/datafold/pcfold/timeseries/collection.py:1636: FutureWarning: The 'axis' keyword in DataFrame.groupby is deprecated and will be removed in a future version.\n",
      "  return self.groupby(by=TSCDataFrame.tsc_id_idx_name, axis=0, level=0).head(\n",
      "/home/uppili11/.local/lib/python3.10/site-packages/datafold/pcfold/timeseries/collection.py:1666: FutureWarning: The 'axis' keyword in DataFrame.groupby is deprecated and will be removed in a future version.\n",
      "  return self.groupby(by=TSCDataFrame.tsc_id_idx_name, axis=0, level=0).tail(\n"
     ]
    },
    {
     "data": {
      "text/html": [
       "<div>\n",
       "<style scoped>\n",
       "    .dataframe tbody tr th:only-of-type {\n",
       "        vertical-align: middle;\n",
       "    }\n",
       "\n",
       "    .dataframe tbody tr th {\n",
       "        vertical-align: top;\n",
       "    }\n",
       "\n",
       "    .dataframe thead th {\n",
       "        text-align: right;\n",
       "    }\n",
       "</style>\n",
       "<table border=\"1\" class=\"dataframe\">\n",
       "  <thead>\n",
       "    <tr style=\"text-align: right;\">\n",
       "      <th></th>\n",
       "      <th>feature</th>\n",
       "      <th>meshDensityCounting-PID4</th>\n",
       "    </tr>\n",
       "    <tr>\n",
       "      <th>ID</th>\n",
       "      <th>time</th>\n",
       "      <th></th>\n",
       "    </tr>\n",
       "  </thead>\n",
       "  <tbody>\n",
       "    <tr>\n",
       "      <th rowspan=\"11\" valign=\"top\">0</th>\n",
       "      <th>0</th>\n",
       "      <td>0.0</td>\n",
       "    </tr>\n",
       "    <tr>\n",
       "      <th>1</th>\n",
       "      <td>0.0</td>\n",
       "    </tr>\n",
       "    <tr>\n",
       "      <th>2</th>\n",
       "      <td>0.0</td>\n",
       "    </tr>\n",
       "    <tr>\n",
       "      <th>3</th>\n",
       "      <td>0.0</td>\n",
       "    </tr>\n",
       "    <tr>\n",
       "      <th>4</th>\n",
       "      <td>0.0</td>\n",
       "    </tr>\n",
       "    <tr>\n",
       "      <th>...</th>\n",
       "      <td>...</td>\n",
       "    </tr>\n",
       "    <tr>\n",
       "      <th>1246</th>\n",
       "      <td>0.0</td>\n",
       "    </tr>\n",
       "    <tr>\n",
       "      <th>1247</th>\n",
       "      <td>0.0</td>\n",
       "    </tr>\n",
       "    <tr>\n",
       "      <th>1248</th>\n",
       "      <td>0.0</td>\n",
       "    </tr>\n",
       "    <tr>\n",
       "      <th>1249</th>\n",
       "      <td>0.0</td>\n",
       "    </tr>\n",
       "    <tr>\n",
       "      <th>1250</th>\n",
       "      <td>0.0</td>\n",
       "    </tr>\n",
       "  </tbody>\n",
       "</table>\n",
       "<p>1251 rows × 1 columns</p>\n",
       "</div>"
      ],
      "text/plain": [
       "feature  meshDensityCounting-PID4\n",
       "ID time                          \n",
       "0  0                          0.0\n",
       "   1                          0.0\n",
       "   2                          0.0\n",
       "   3                          0.0\n",
       "   4                          0.0\n",
       "...                           ...\n",
       "   1246                       0.0\n",
       "   1247                       0.0\n",
       "   1248                       0.0\n",
       "   1249                       0.0\n",
       "   1250                       0.0\n",
       "\n",
       "[1251 rows x 1 columns]"
      ]
     },
     "execution_count": 228,
     "metadata": {},
     "output_type": "execute_result"
    }
   ],
   "source": [
    "dmd = DMDStandard().fit(\n",
    "    X=X_tsc, store_system_matrix=True\n",
    ")  # X must be of type TSCDataFrame\n",
    "dmd_values = dmd.predict(X_tsc.initial_states(), time_values=X_tsc.time_values())\n",
    "\n",
    "#dmd_values_oos = dmd.predict(np.array([0]), time_values=np.linspace(0, 100, 1250))\n",
    "\n",
    "print(\n",
    "    \"Data snipped for predicted time series training data and out-of-sample prediction\"\n",
    ")\n",
    "dmd_values"
   ]
  },
  {
   "cell_type": "code",
   "execution_count": 229,
   "metadata": {},
   "outputs": [
    {
     "data": {
      "image/png": "[encoded data removed]",
      "text/plain": [
       "<Figure size 1400x500 with 2 Axes>"
      ]
     },
     "metadata": {},
     "output_type": "display_data"
    }
   ],
   "source": [
    "f, ax = plt.subplots(1, 2, figsize=(14, 5))\n",
    "for _id, df in X_tsc.itertimeseries():\n",
    "    ax[0].plot(time_values, df[\"meshDensityCounting-PID4\"].to_numpy(), 0.1, c=\"black\")\n",
    "    #include_arrow(ax[0], df)\n",
    "\n",
    "ax[0].set_title(\"training data used during fit\")\n",
    "ax[0].set_xlabel(\"time_values\")\n",
    "ax[0].set_ylabel(\"meshDensityCounting-PID4\")\n",
    "#ax[0].axis(\"equal\")\n",
    "ax[0].grid()\n",
    "\n",
    "for _id, df in dmd_values.itertimeseries():\n",
    "    ax[1].plot(time_values, df[\"meshDensityCounting-PID4\"].to_numpy(), 0.1, c=\"black\")\n",
    "    #include_arrow(ax[1], df)\n",
    "\n",
    "ax[1].set_title(\"DMD model (identity state dictionary)\")\n",
    "ax[1].set_xlabel(\"time_values\")\n",
    "ax[1].set_ylabel(\"meshDensityCounting-PID4\")\n",
    "#ax[1].axis(\"equal\")\n",
    "ax[1].grid()"
   ]
  }
 ],
 "metadata": {
  "kernelspec": {
   "display_name": "Python 3",
   "language": "python",
   "name": "python3"
  },
  "language_info": {
   "codemirror_mode": {
    "name": "ipython",
    "version": 3
   },
   "file_extension": ".py",
   "mimetype": "text/x-python",
   "name": "python",
   "nbconvert_exporter": "python",
   "pygments_lexer": "ipython3",
   "version": "3.10.12"
  }
 },
 "nbformat": 4,
 "nbformat_minor": 2
}
