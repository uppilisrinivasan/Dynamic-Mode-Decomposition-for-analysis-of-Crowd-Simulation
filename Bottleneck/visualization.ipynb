{
 "cells": [
  {
   "cell_type": "code",
   "execution_count": 11,
   "metadata": {},
   "outputs": [],
   "source": [
    "import re\n",
    "import json\n",
    "import numpy as np\n",
    "import pandas as pd\n",
    "import PyQt5\n",
    "import matplotlib as mpl\n",
    "mpl.rcParams['animation.embed_limit'] = 100\n",
    "mpl.use('Agg')\n",
    "import matplotlib.pyplot as plt\n",
    "import matplotlib.tri as tri\n",
    "import matplotlib.animation as anim\n",
    "from IPython.display import HTML"
   ]
  },
  {
   "cell_type": "code",
   "execution_count": 12,
   "metadata": {},
   "outputs": [],
   "source": [
    "import viz"
   ]
  },
  {
   "cell_type": "code",
   "execution_count": 13,
   "metadata": {},
   "outputs": [
    {
     "data": {
      "text/plain": [
       "100080"
      ]
     },
     "execution_count": 13,
     "metadata": {},
     "output_type": "execute_result"
    }
   ],
   "source": [
    "scenario_id = 0\n",
    "run_id = 0\n",
    "\n",
    "density = viz.read_density(scenario_id, run_id)\n",
    "density.shape[0]"
   ]
  },
  {
   "cell_type": "code",
   "execution_count": 14,
   "metadata": {},
   "outputs": [
    {
     "data": {
      "text/plain": [
       "(52.5, 1.5, 31.5, 16.5, 2.0)"
      ]
     },
     "execution_count": 14,
     "metadata": {},
     "output_type": "execute_result"
    }
   ],
   "source": [
    "xmax, ymin, ymax, midpoint, width = viz.read_width_and_midpoint(scenario_id, run_id)\n",
    "xmax, ymin, ymax, midpoint, width"
   ]
  },
  {
   "cell_type": "code",
   "execution_count": 15,
   "metadata": {},
   "outputs": [
    {
     "data": {
      "text/plain": [
       "<matplotlib.collections.LineCollection at 0x7f81c841c760>"
      ]
     },
     "execution_count": 15,
     "metadata": {},
     "output_type": "execute_result"
    }
   ],
   "source": [
    "f, ax, tripcolor = viz.read_and_init_mesh(f\"./mesh.txt\", density)\n",
    "ax.vlines(xmax, ymin=midpoint+width/2, ymax=midpoint*2, color=\"black\", linewidth=3)\n",
    "ax.vlines(xmax, ymin=0, ymax=midpoint-width/2, color=\"black\", linewidth=3)"
   ]
  },
  {
   "cell_type": "code",
   "execution_count": 16,
   "metadata": {},
   "outputs": [
    {
     "name": "stderr",
     "output_type": "stream",
     "text": [
      "/tmp/ipykernel_1079788/751452958.py:16: UserWarning: FigureCanvasAgg is non-interactive, and thus cannot be shown\n",
      "  plt.show()\n"
     ]
    }
   ],
   "source": [
    "def update(frame):\n",
    "    if frame + 1 in density.index.get_level_values('timeStep'):\n",
    "        new_density = density.loc[pd.IndexSlice[frame + 1, :], :].to_numpy().flatten()\n",
    "        tripcolor.set_array(new_density)\n",
    "        return tripcolor, f\n",
    "   # else:\n",
    "        # Handle the case where frame + 1 is out of bounds\n",
    "        # For example, setting a default value or taking alternative action\n",
    "     #   pass\n",
    "    return tripcolor, f\n",
    "\n",
    "ani = anim.FuncAnimation(fig=f, func=update, frames=5000, interval=200, blit=True)\n",
    "#ani = anim.FuncAnimation(fig=f, func=update, frames=density.shape[0] - 1, interval=200, blit=True)\n",
    "writer = anim.PillowWriter(fps=30)  # Adjust fps as needed\n",
    "ani.save('basic_animation2.gif', writer=writer)\n",
    "plt.show()"
   ]
  }
 ],
 "metadata": {
  "kernelspec": {
   "display_name": "Python 3",
   "language": "python",
   "name": "python3"
  },
  "language_info": {
   "codemirror_mode": {
    "name": "ipython",
    "version": 3
   },
   "file_extension": ".py",
   "mimetype": "text/x-python",
   "name": "python",
   "nbconvert_exporter": "python",
   "pygments_lexer": "ipython3",
   "version": "3.10.12"
  }
 },
 "nbformat": 4,
 "nbformat_minor": 2
}
